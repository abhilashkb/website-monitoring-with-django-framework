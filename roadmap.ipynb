{
 "cells": [
  {
   "cell_type": "markdown",
   "id": "bb76bcbc-4374-4fb8-9563-5e1f7265a637",
   "metadata": {},
   "source": [
    "Creating a domain monitoring system with Django, similar to Uptime Robot, involves building a web application that periodically checks the status of websites or servers and notifies users if any of them go down. Below is a step-by-step guide to building a basic version of such a system.\n",
    "\n",
    "---\n",
    "\n",
    "### **Features of the Domain Monitoring System**\n",
    "1. **User Authentication**: Users can register, log in, and manage their domains.\n",
    "2. **Add/Remove Domains**: Users can add domains to monitor and remove them.\n",
    "3. **Periodic Checks**: The system periodically checks the status of domains (e.g., every 5 minutes).\n",
    "4. **Status Logging**: Logs the uptime/downtime of each domain.\n",
    "5. **Notifications**: Sends notifications (email, SMS, etc.) when a domain goes down or comes back up.\n",
    "6. **Dashboard**: Displays the status of all monitored domains.\n"
   ]
  },
  {
   "cell_type": "markdown",
   "id": "438d41d2-a983-456c-bb1a-868580a72585",
   "metadata": {},
   "source": [
    "---------------------------------------------------------------------------------------------"
   ]
  },
  {
   "cell_type": "markdown",
   "id": "9237c42c-c457-416f-8ade-453499676717",
   "metadata": {},
   "source": [
    "***Create a Django App:***\n",
    "\n",
    "```\n",
    "python manage.py startapp monitor\n",
    "\n",
    "```\n",
    "\n",
    "**Add the App to INSTALLED_APPS:**\n",
    "\n",
    "In settings.py:\n",
    "```\n",
    "INSTALLED_APPS = [\n",
    "    ...\n",
    "    'monitor',\n",
    "]\n",
    "```"
   ]
  },
  {
   "cell_type": "code",
   "execution_count": null,
   "id": "de993b18-82c1-439b-8754-4ae337f811c2",
   "metadata": {},
   "outputs": [],
   "source": []
  },
  {
   "cell_type": "code",
   "execution_count": null,
   "id": "61f0572d-a618-4ecd-ab5a-5cb9b5ab90c4",
   "metadata": {},
   "outputs": [],
   "source": []
  },
  {
   "cell_type": "markdown",
   "id": "cc13fa0a-1e86-4119-b0ba-abba95031675",
   "metadata": {},
   "source": [
    "**In monitoring/models.py, define models for users, domains, and status logs.**"
   ]
  },
  {
   "cell_type": "code",
   "execution_count": null,
   "id": "ce3f898a-920d-4b26-956d-2788b934a0de",
   "metadata": {},
   "outputs": [],
   "source": [
    "from django.db import models\n",
    "\n",
    "# Create your models here.\n",
    "\n",
    "class Domain(models.Model):\n",
    "    user = models.ForeignKey('auth.User', on_delete=models.CASCADE)\n",
    "    name = models.CharField(max_length=200)\n",
    "  \n",
    "    def __str__(self):\n",
    "        return self.name\n",
    "        \n",
    "class DomainStatus(models.Model):\n",
    "    domain = models.ForeignKey(Domain, on_delete=models.CASCADE,unique=True)\n",
    "    status = models.CharField(max_length=200,default='OK')\n",
    "    expiration_date = models.DateTimeField('expiration date',null=True)\n",
    "    registrar = models.CharField(max_length=200,null=True)\n",
    "    response_code = models.IntegerField(null=True)\n",
    "    response_time = models.FloatField(null=True)\n",
    "    def __str__(self):\n",
    "        return self.status\n",
    "        \n",
    "class DomainHistory(models.Model):\n",
    "    domain = models.ForeignKey(Domain, on_delete=models.CASCADE)\n",
    "    date = models.DateTimeField('date')\n",
    "    status = models.CharField(max_length=200)\n",
    "    def __str__(self):\n",
    "        return f\"{self.domain} - {self.date} - {self.status}\"\n"
   ]
  },
  {
   "cell_type": "markdown",
   "id": "9b27e5d5-9f9b-4ab3-b002-120b327c92b7",
   "metadata": {},
   "source": [
    "**Run migrations:**\n",
    "\n",
    "\n",
    "python manage.py makemigrations\n",
    "python manage.py migrate\n"
   ]
  },
  {
   "cell_type": "code",
   "execution_count": null,
   "id": "35d28e64-ef8a-49b1-aa52-aa422d5cc94f",
   "metadata": {},
   "outputs": [],
   "source": [
    "python manage.py makemigrations\n",
    "python manage.py migrate"
   ]
  },
  {
   "cell_type": "markdown",
   "id": "da49352a-b940-420d-a62b-cb0cd8d0e281",
   "metadata": {},
   "source": [
    "**Step 3: Create Views and Templates**\n",
    "\n",
    "Add Views:\n",
    "In monitor/views.py, create views for adding domains, viewing the dashboard, and checking domain status."
   ]
  },
  {
   "cell_type": "code",
   "execution_count": null,
   "id": "b8fd5f72-08e6-4d7f-bd5d-fedc37343fe9",
   "metadata": {},
   "outputs": [],
   "source": [
    "import re\n",
    "from django.shortcuts import render, redirect, get_object_or_404\n",
    "from django.contrib.auth.decorators import login_required\n",
    "from django.contrib.auth.models import User\n",
    "from .models import Domain, DomainStatus, DomainHistory\n",
    "from .forms import DomainForm\n",
    "import requests\n",
    "import logging\n",
    "\n",
    "logger = logging.getLogger(__name__)\n",
    "\n",
    "# Create your views here.\n",
    "\n",
    "@login_required\n",
    "def dashboard(request):\n",
    "    \"\"\"\n",
    "    View to display the dashboard with the list of domains and their statuses.\n",
    "    Only accessible to logged-in users.\n",
    "    \"\"\"\n",
    "    domains = DomainStatus.objects.select_related('domain').filter(domain__user=request.user)\n",
    "    return render(request, 'monitoring/dashboard.html', {'domains': domains})\n",
    "\n",
    "@login_required\n",
    "def add_domain(request):\n",
    "    \"\"\"\n",
    "    View to handle adding a new domain.\n",
    "    Displays a form for adding a domain and processes the form submission.\n",
    "    Only accessible to logged-in users.\n",
    "    \"\"\"\n",
    "    if request.method == 'POST':\n",
    "        form = DomainForm(request.POST)\n",
    "        if form.is_valid():\n",
    "            domain = form.save(commit=False)\n",
    "            domain.user = request.user\n",
    "            domain.save()\n",
    "            return redirect('dashboard')\n",
    "    else:\n",
    "        form = DomainForm()\n",
    "    return render(request, 'add_domain.html', {'form': form})\n",
    "\n",
    "@login_required\n",
    "def delete_domain(request, domain_id):\n",
    "    \"\"\"\n",
    "    View to handle deleting a domain.\n",
    "    Deletes the specified domain and redirects to the index page.\n",
    "    Only accessible to logged-in users.\n",
    "    \"\"\"\n",
    "    domain = get_object_or_404(Domain, pk=domain_id)\n",
    "    if domain:\n",
    "        domain.delete()\n",
    "    return redirect('index')\n",
    "\n",
    "def check_domain_status(domain):\n",
    "    \"\"\"\n",
    "    Function to check the status of a domain.\n",
    "    Sends a HEAD request to the domain and returns the status code.\n",
    "    Logs an exception if the request fails.\n",
    "    \"\"\"\n",
    "    try:\n",
    "        status_code = str(requests.head(f'http://{domain}', headers={'User-Agent': 'Foo bar'}, allow_redirects=True).status_code)\n",
    "        return status_code\n",
    "    except requests.RequestException:\n",
    "        logger.exception(f\"Failed to check status for domain: {domain}\")\n",
    "        return None"
   ]
  },
  {
   "cell_type": "markdown",
   "id": "66d6e3af-bc80-4c12-bee6-e9a99f278c3a",
   "metadata": {},
   "source": [
    "\n",
    "**Dashboard View (dashboard):**\n",
    "Displays a list of domains and their statuses for the logged-in user.\n",
    "Uses select_related to optimize the query by fetching related Domain objects in a single query.\n",
    "\n",
    "**Add Domain View (add_domain):**\n",
    "Handles the form for adding a new domain.\n",
    "If the request method is POST, it processes the form data and saves the new domain.\n",
    "If the form is valid, it associates the domain with the logged-in user and redirects to the dashboard.\n",
    "If the request method is GET, it displays an empty form.\n",
    "\n",
    "                             \n",
    "**Delete Domain View (delete_domain):**\n",
    "Deletes a specified domain.\n",
    "Fetches the domain using get_object_or_404 and deletes it if it exists.\n",
    "Redirects to the index page after deletion.\n",
    "\n",
    "**Check Domain Status Function (check_domain_status):**\n",
    "Sends a HEAD request to the specified domain to check its status.\n",
    "Returns the status code of the response.\n",
    "Logs an exception if the request fails and returns None.\n",
    "These views and functions provide the core functionality for managing and monitoring domains in your Django application."
   ]
  },
  {
   "cell_type": "code",
   "execution_count": null,
   "id": "b12afa0c-dfe1-45d0-9862-8e78dd91bb48",
   "metadata": {},
   "outputs": [],
   "source": []
  },
  {
   "cell_type": "code",
   "execution_count": null,
   "id": "98ac3850-1e92-4cd1-8d5c-738c7dbf42b2",
   "metadata": {},
   "outputs": [],
   "source": []
  },
  {
   "cell_type": "code",
   "execution_count": null,
   "id": "4061adde-36d8-46c7-b836-3ab336dd9834",
   "metadata": {},
   "outputs": [],
   "source": [
    "from django import forms\n",
    "from .models import Domain\n",
    "\n",
    "class DomainForm(forms.ModelForm):\n",
    "    class Meta:\n",
    "        model = Domain\n",
    "        fields = ['name']"
   ]
  },
  {
   "cell_type": "markdown",
   "id": "1517c2c6-68ec-48db-80ac-9ada7ed9cd6b",
   "metadata": {},
   "source": [
    "\n",
    "The DomainForm class is a Django form that allows users to create or update Domain instances. By using a ModelForm, Django automatically generates form fields based on the specified model fields, making it easier to create forms that interact with the database.\n",
    "\n",
    "This form is used in the add_domain view to handle the submission of new domains by users. When the form is submitted, it validates the input and, if valid, saves the new domain to the database."
   ]
  },
  {
   "cell_type": "markdown",
   "id": "14bdc467-c72c-4e2d-8c8a-cc9298acaccd",
   "metadata": {},
   "source": [
    "."
   ]
  },
  {
   "cell_type": "markdown",
   "id": "d6132d5f-578c-4dfd-ac31-22f1d754ec81",
   "metadata": {},
   "source": [
    "#### **URL configuration for domain_monitor project.**"
   ]
  },
  {
   "cell_type": "code",
   "execution_count": null,
   "id": "33c58fbb-1bf8-4270-8a63-5fb82dc56dbe",
   "metadata": {},
   "outputs": [],
   "source": [
    "from django.contrib import admin\n",
    "from django.urls import path\n",
    "from django.urls import include\n",
    "\n",
    "urlpatterns = [\n",
    "    path('admin/', admin.site.urls),\n",
    "    path('', include('monitoring.urls')),"
   ]
  },
  {
   "cell_type": "markdown",
   "id": "057a2c3d-2bbd-4c09-bbc0-aaf21418229f",
   "metadata": {},
   "source": [
    "The **urls.py** file defines the URL configuration for the domain_monitor project. It maps URL paths to views, allowing the application to respond to different URLs. The include function is used to include URL patterns from the monitoring app, making it easier to manage URLs in a modular way.\n",
    "\n",
    "**Admin Interface:** The admin/ URL is routed to the Django admin interface, allowing administrators to manage the site's data.\n",
    "\n",
    "**Monitoring App:** The root URL ('') is routed to the monitoring app's URL patterns, which handle the main functionality of the application, such as displaying the dashboard and adding domains."
   ]
  },
  {
   "cell_type": "markdown",
   "id": "8bbe34f5-852e-4fb8-b0e5-8fd5a24e3d1e",
   "metadata": {},
   "source": [
    "#### **Base Template**\n",
    "\n",
    "The base template serves as the foundation for all pages in your application. Create a directory structure for templates:"
   ]
  },
  {
   "cell_type": "code",
   "execution_count": null,
   "id": "f0574bb7-7e36-4c3a-9ef3-d808d59f7aac",
   "metadata": {},
   "outputs": [],
   "source": [
    "myproject/\n",
    "    templates/\n",
    "        base.html\n",
    "        accounts/\n",
    "            login.html"
   ]
  },
  {
   "cell_type": "markdown",
   "id": "09a1214d-f0ab-4dc4-a098-754fad8b380f",
   "metadata": {},
   "source": [
    "Update **settings.py** to include the templates directory:\n",
    "\n"
   ]
  },
  {
   "cell_type": "markdown",
   "id": "99c6a594-63eb-4c44-b679-f0f41f3a37bc",
   "metadata": {},
   "source": [
    "#**Sheduled TASKS**#"
   ]
  },
  {
   "cell_type": "markdown",
   "id": "3e41958c-464a-478a-8d39-761e73938f57",
   "metadata": {},
   "source": [
    "The **celery_app.py** ) file configures Celery for the domain_monitor project. It sets up the Celery instance, loads configuration from Django settings, autodiscovers tasks from installed apps, and defines a periodic task schedule. This setup allows the application to perform background tasks and periodic tasks efficiently."
   ]
  },
  {
   "cell_type": "code",
   "execution_count": null,
   "id": "6a38e2bf-60a0-455c-9b0b-f4edab510ad5",
   "metadata": {},
   "outputs": [],
   "source": [
    "import os\n",
    "\n",
    "from celery import Celery\n",
    "from celery.schedules import crontab\n",
    "from django.conf import settings\n",
    "\n",
    "# Set the default Django settings module for the 'celery' program.\n",
    "os.environ.setdefault('DJANGO_SETTINGS_MODULE', 'domain_monitor.settings')\n",
    "\n",
    "# autodiscover tasks from installed apps\n",
    "app = Celery('domain_monitor')\n",
    "app.config_from_object('django.conf:settings', namespace='CELERY')\n",
    "# This line tells Celery to automatically discover tasks from all installed Django apps.\n",
    "# It is necessary to ensure that Celery can find and execute the tasks defined in the apps.\n",
    "app.autodiscover_tasks()\n",
    "# This means that Celery will look for settings that start with 'CELERY_'.\n",
    "app.config_from_object('django.conf:settings', namespace='CELERY')\n",
    "\n",
    "# Define the Celery beat schedule for periodic tasks\n",
    "app.conf.beat_schedule = {\n",
    "    'check-domain-status-every-5-minutes': {\n",
    "        'task': 'monitoring.tasks.check_domain_status',\n",
    "        'schedule': crontab(minute='*/5'),\n",
    "    },\n",
    "}"
   ]
  },
  {
   "cell_type": "markdown",
   "id": "72c3cec6-0e13-4fd2-aedf-64cbff2dcdd7",
   "metadata": {},
   "source": [
    "\n",
    "\n",
    "**Setting the Default Django Settings Module:**\n",
    "\n",
    "os.environ.setdefault('DJANGO_SETTINGS_MODULE', 'domain_monitor.settings'): Sets the default Django settings module for the Celery program to domain_monitor.settings.\n",
    "\n",
    "**Creating a Celery Instance:**\n",
    "\n",
    "app = Celery('domain_monitor'): Creates a new Celery instance with the name domain_monitor.\n",
    "\n",
    "**Loading Configuration from Django Settings:**\n",
    "\n",
    "app.config_from_object('django.conf:settings', namespace='CELERY'): Loads configuration from the Django settings, using a namespace of CELERY. This means that Celery will look for settings that start with CELERY_.\n",
    "\n",
    "**Autodiscovering Tasks:**\n",
    "\n",
    "app.autodiscover_tasks(): Tells Celery to automatically discover tasks from all installed Django apps. This ensures that Celery can find and execute the tasks defined in the apps.\n",
    "\n",
    "**Defining the Celery Beat Schedule:**\n",
    "\n",
    "app.conf.beat_schedule: Defines the Celery beat schedule for periodic tasks.\n",
    "The check-domain-status-every-5-minutes task is scheduled to run every 5 minutes using the crontab(minute='*/5') schedule.\n",
    "The task to be executed is monitoring.tasks.check_domain_status."
   ]
  },
  {
   "cell_type": "markdown",
   "id": "2197bd99-5cd7-42c5-98f6-2442512454ef",
   "metadata": {},
   "source": [
    "**monitoring/tasks.py**"
   ]
  },
  {
   "cell_type": "code",
   "execution_count": null,
   "id": "e01c9ab3-a839-4c2d-b23e-e99f357a7804",
   "metadata": {},
   "outputs": [],
   "source": [
    "from celery import shared_task\n",
    "from .models import Domain, DomainStatus\n",
    "import requests\n",
    "\n",
    "@shared_task\n",
    "def check_domain_status():\n",
    "    \"\"\"\n",
    "    Periodically checks the status of all domains.\n",
    "    Updates the DomainStatus model with the response code and response time.\n",
    "    \"\"\"\n",
    "    domains = Domain.objects.all()\n",
    "    for domain in domains:\n",
    "        try:\n",
    "            response = requests.get(domain.name)\n",
    "            status_code = response.status_code\n",
    "            response_time = response.elapsed.total_seconds()\n",
    "            DomainStatus.objects.update_or_create(\n",
    "                domain=domain,\n",
    "                defaults={\n",
    "                    'status': 'OK' if status_code == 200 else 'DOWN',\n",
    "                    'response_code': status_code,\n",
    "                    'response_time': response_time,\n",
    "                }\n",
    "            )\n",
    "        except requests.RequestException:\n",
    "            DomainStatus.objects.update_or_create(\n",
    "                domain=domain,\n",
    "                defaults={\n",
    "                    'status': 'DOWN',\n",
    "                    'response_code': None,\n",
    "                    'response_time': None,\n",
    "                }\n",
    "            )"
   ]
  }
 ],
 "metadata": {
  "kernelspec": {
   "display_name": "Python 3 (ipykernel)",
   "language": "python",
   "name": "python3"
  },
  "language_info": {
   "codemirror_mode": {
    "name": "ipython",
    "version": 3
   },
   "file_extension": ".py",
   "mimetype": "text/x-python",
   "name": "python",
   "nbconvert_exporter": "python",
   "pygments_lexer": "ipython3",
   "version": "3.10.12"
  }
 },
 "nbformat": 4,
 "nbformat_minor": 5
}
